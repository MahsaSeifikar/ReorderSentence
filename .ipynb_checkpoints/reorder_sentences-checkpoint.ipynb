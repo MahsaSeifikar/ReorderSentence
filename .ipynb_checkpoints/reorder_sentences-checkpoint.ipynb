{
 "cells": [
  {
   "cell_type": "markdown",
   "id": "certain-north",
   "metadata": {},
   "source": [
    "# Reorder Sentences"
   ]
  },
  {
   "cell_type": "code",
   "execution_count": 3,
   "id": "professional-tolerance",
   "metadata": {},
   "outputs": [],
   "source": [
    "import os\n",
    "import pickle"
   ]
  },
  {
   "cell_type": "code",
   "execution_count": 7,
   "id": "favorite-branch",
   "metadata": {},
   "outputs": [],
   "source": [
    "DATA_PATH = \"data\""
   ]
  },
  {
   "cell_type": "code",
   "execution_count": 10,
   "id": "descending-encyclopedia",
   "metadata": {},
   "outputs": [],
   "source": [
    "train_dic = pickle.load(open(os.path.join(DATA_PATH, 'train.pkl'), 'rb'))\n",
    "test_dic = pickle.load(open(os.path.join(DATA_PATH, 'test.pkl'), 'rb'))"
   ]
  },
  {
   "cell_type": "code",
   "execution_count": null,
   "id": "jewish-ecuador",
   "metadata": {},
   "outputs": [],
   "source": []
  }
 ],
 "metadata": {
  "kernelspec": {
   "display_name": "deep-learning",
   "language": "python",
   "name": "deep-learning"
  },
  "language_info": {
   "codemirror_mode": {
    "name": "ipython",
    "version": 3
   },
   "file_extension": ".py",
   "mimetype": "text/x-python",
   "name": "python",
   "nbconvert_exporter": "python",
   "pygments_lexer": "ipython3",
   "version": "3.8.5"
  }
 },
 "nbformat": 4,
 "nbformat_minor": 5
}
